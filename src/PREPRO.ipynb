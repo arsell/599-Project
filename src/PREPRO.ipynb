{
 "cells": [
  {
   "cell_type": "markdown",
   "metadata": {},
   "source": [
    "This imports pandas and the data set."
   ]
  },
  {
   "cell_type": "code",
   "execution_count": 1,
   "metadata": {},
   "outputs": [],
   "source": [
    "import pandas as pd\n",
    "Survey='https://github.com/arsell/599-Project/blob/master/data/HNBR62FL.DTA?raw=true'\n",
    "DF=pd.read_stata(Survey)"
   ]
  },
  {
   "cell_type": "markdown",
   "metadata": {},
   "source": [
    "This creates a dataframe with the variables from the data that will be used in our analysis."
   ]
  },
  {
   "cell_type": "code",
   "execution_count": 2,
   "metadata": {},
   "outputs": [],
   "source": [
    "DF=DF[['caseid', 'v133', 'v012', 'v130', 'v024', 'v190', 'v191','v025', 'v001']]"
   ]
  },
  {
   "cell_type": "markdown",
   "metadata": {},
   "source": [
    "Let's look at our data"
   ]
  },
  {
   "cell_type": "code",
   "execution_count": 3,
   "metadata": {},
   "outputs": [
    {
     "data": {
      "text/plain": [
       "(49263, 9)"
      ]
     },
     "execution_count": 3,
     "metadata": {},
     "output_type": "execute_result"
    }
   ],
   "source": [
    "DF.shape"
   ]
  },
  {
   "cell_type": "code",
   "execution_count": 4,
   "metadata": {},
   "outputs": [
    {
     "data": {
      "text/html": [
       "<div>\n",
       "<style scoped>\n",
       "    .dataframe tbody tr th:only-of-type {\n",
       "        vertical-align: middle;\n",
       "    }\n",
       "\n",
       "    .dataframe tbody tr th {\n",
       "        vertical-align: top;\n",
       "    }\n",
       "\n",
       "    .dataframe thead th {\n",
       "        text-align: right;\n",
       "    }\n",
       "</style>\n",
       "<table border=\"1\" class=\"dataframe\">\n",
       "  <thead>\n",
       "    <tr style=\"text-align: right;\">\n",
       "      <th></th>\n",
       "      <th>caseid</th>\n",
       "      <th>v133</th>\n",
       "      <th>v012</th>\n",
       "      <th>v130</th>\n",
       "      <th>v024</th>\n",
       "      <th>v190</th>\n",
       "      <th>v191</th>\n",
       "      <th>v025</th>\n",
       "      <th>v001</th>\n",
       "    </tr>\n",
       "  </thead>\n",
       "  <tbody>\n",
       "    <tr>\n",
       "      <th>0</th>\n",
       "      <td>1 21  1</td>\n",
       "      <td>6</td>\n",
       "      <td>40</td>\n",
       "      <td>Evangelical / Protestant</td>\n",
       "      <td>Atl?ntida</td>\n",
       "      <td>Richer</td>\n",
       "      <td>72182</td>\n",
       "      <td>Urban</td>\n",
       "      <td>1</td>\n",
       "    </tr>\n",
       "    <tr>\n",
       "      <th>1</th>\n",
       "      <td>1 21  1</td>\n",
       "      <td>6</td>\n",
       "      <td>40</td>\n",
       "      <td>Evangelical / Protestant</td>\n",
       "      <td>Atl?ntida</td>\n",
       "      <td>Richer</td>\n",
       "      <td>72182</td>\n",
       "      <td>Urban</td>\n",
       "      <td>1</td>\n",
       "    </tr>\n",
       "    <tr>\n",
       "      <th>2</th>\n",
       "      <td>1 21  1</td>\n",
       "      <td>6</td>\n",
       "      <td>40</td>\n",
       "      <td>Evangelical / Protestant</td>\n",
       "      <td>Atl?ntida</td>\n",
       "      <td>Richer</td>\n",
       "      <td>72182</td>\n",
       "      <td>Urban</td>\n",
       "      <td>1</td>\n",
       "    </tr>\n",
       "    <tr>\n",
       "      <th>3</th>\n",
       "      <td>1 21  1</td>\n",
       "      <td>6</td>\n",
       "      <td>40</td>\n",
       "      <td>Evangelical / Protestant</td>\n",
       "      <td>Atl?ntida</td>\n",
       "      <td>Richer</td>\n",
       "      <td>72182</td>\n",
       "      <td>Urban</td>\n",
       "      <td>1</td>\n",
       "    </tr>\n",
       "    <tr>\n",
       "      <th>4</th>\n",
       "      <td>1 21  1</td>\n",
       "      <td>6</td>\n",
       "      <td>40</td>\n",
       "      <td>Evangelical / Protestant</td>\n",
       "      <td>Atl?ntida</td>\n",
       "      <td>Richer</td>\n",
       "      <td>72182</td>\n",
       "      <td>Urban</td>\n",
       "      <td>1</td>\n",
       "    </tr>\n",
       "  </tbody>\n",
       "</table>\n",
       "</div>"
      ],
      "text/plain": [
       "    caseid v133  v012                      v130       v024    v190   v191  \\\n",
       "0  1 21  1    6    40  Evangelical / Protestant  Atl?ntida  Richer  72182   \n",
       "1  1 21  1    6    40  Evangelical / Protestant  Atl?ntida  Richer  72182   \n",
       "2  1 21  1    6    40  Evangelical / Protestant  Atl?ntida  Richer  72182   \n",
       "3  1 21  1    6    40  Evangelical / Protestant  Atl?ntida  Richer  72182   \n",
       "4  1 21  1    6    40  Evangelical / Protestant  Atl?ntida  Richer  72182   \n",
       "\n",
       "    v025  v001  \n",
       "0  Urban     1  \n",
       "1  Urban     1  \n",
       "2  Urban     1  \n",
       "3  Urban     1  \n",
       "4  Urban     1  "
      ]
     },
     "execution_count": 4,
     "metadata": {},
     "output_type": "execute_result"
    }
   ],
   "source": [
    "DF.head()"
   ]
  },
  {
   "cell_type": "markdown",
   "metadata": {},
   "source": [
    "Now we rename the variables to something easier to understand."
   ]
  },
  {
   "cell_type": "code",
   "execution_count": 5,
   "metadata": {},
   "outputs": [],
   "source": [
    "newnames={'caseid': 'caseid', #CASEID\n",
    "            'v133': 'educ', #Education in Single years\n",
    "            'v012': 'age', #Respondent's current age\n",
    "            'v130': 'religion', #Religion-Catholic, Evangelical, Other, None\n",
    "            'v024': 'region', #Region-one of 18 administrative regions\n",
    "            'v190': 'wealthCat', #Wealth index categorical\n",
    "            'v191': 'wealthDec', #Wealth index decimal\n",
    "            'v025': 'urban', #Type of residence-Urban, Rural\n",
    "            'v001': 'DHSCLUST'} #DHS Cluster number-to link with shape file\n"
   ]
  },
  {
   "cell_type": "code",
   "execution_count": 6,
   "metadata": {},
   "outputs": [],
   "source": [
    "DF.rename(columns=newnames,inplace=True)"
   ]
  },
  {
   "cell_type": "markdown",
   "metadata": {},
   "source": [
    "Let's check to make sure everything was renamed properly"
   ]
  },
  {
   "cell_type": "code",
   "execution_count": 7,
   "metadata": {},
   "outputs": [
    {
     "data": {
      "text/html": [
       "<div>\n",
       "<style scoped>\n",
       "    .dataframe tbody tr th:only-of-type {\n",
       "        vertical-align: middle;\n",
       "    }\n",
       "\n",
       "    .dataframe tbody tr th {\n",
       "        vertical-align: top;\n",
       "    }\n",
       "\n",
       "    .dataframe thead th {\n",
       "        text-align: right;\n",
       "    }\n",
       "</style>\n",
       "<table border=\"1\" class=\"dataframe\">\n",
       "  <thead>\n",
       "    <tr style=\"text-align: right;\">\n",
       "      <th></th>\n",
       "      <th>caseid</th>\n",
       "      <th>educ</th>\n",
       "      <th>age</th>\n",
       "      <th>religion</th>\n",
       "      <th>region</th>\n",
       "      <th>wealthCat</th>\n",
       "      <th>wealthDec</th>\n",
       "      <th>urban</th>\n",
       "      <th>DHSCLUST</th>\n",
       "    </tr>\n",
       "  </thead>\n",
       "  <tbody>\n",
       "    <tr>\n",
       "      <th>0</th>\n",
       "      <td>1 21  1</td>\n",
       "      <td>6</td>\n",
       "      <td>40</td>\n",
       "      <td>Evangelical / Protestant</td>\n",
       "      <td>Atl?ntida</td>\n",
       "      <td>Richer</td>\n",
       "      <td>72182</td>\n",
       "      <td>Urban</td>\n",
       "      <td>1</td>\n",
       "    </tr>\n",
       "    <tr>\n",
       "      <th>1</th>\n",
       "      <td>1 21  1</td>\n",
       "      <td>6</td>\n",
       "      <td>40</td>\n",
       "      <td>Evangelical / Protestant</td>\n",
       "      <td>Atl?ntida</td>\n",
       "      <td>Richer</td>\n",
       "      <td>72182</td>\n",
       "      <td>Urban</td>\n",
       "      <td>1</td>\n",
       "    </tr>\n",
       "    <tr>\n",
       "      <th>2</th>\n",
       "      <td>1 21  1</td>\n",
       "      <td>6</td>\n",
       "      <td>40</td>\n",
       "      <td>Evangelical / Protestant</td>\n",
       "      <td>Atl?ntida</td>\n",
       "      <td>Richer</td>\n",
       "      <td>72182</td>\n",
       "      <td>Urban</td>\n",
       "      <td>1</td>\n",
       "    </tr>\n",
       "    <tr>\n",
       "      <th>3</th>\n",
       "      <td>1 21  1</td>\n",
       "      <td>6</td>\n",
       "      <td>40</td>\n",
       "      <td>Evangelical / Protestant</td>\n",
       "      <td>Atl?ntida</td>\n",
       "      <td>Richer</td>\n",
       "      <td>72182</td>\n",
       "      <td>Urban</td>\n",
       "      <td>1</td>\n",
       "    </tr>\n",
       "    <tr>\n",
       "      <th>4</th>\n",
       "      <td>1 21  1</td>\n",
       "      <td>6</td>\n",
       "      <td>40</td>\n",
       "      <td>Evangelical / Protestant</td>\n",
       "      <td>Atl?ntida</td>\n",
       "      <td>Richer</td>\n",
       "      <td>72182</td>\n",
       "      <td>Urban</td>\n",
       "      <td>1</td>\n",
       "    </tr>\n",
       "  </tbody>\n",
       "</table>\n",
       "</div>"
      ],
      "text/plain": [
       "    caseid educ  age                  religion     region wealthCat  \\\n",
       "0  1 21  1    6   40  Evangelical / Protestant  Atl?ntida    Richer   \n",
       "1  1 21  1    6   40  Evangelical / Protestant  Atl?ntida    Richer   \n",
       "2  1 21  1    6   40  Evangelical / Protestant  Atl?ntida    Richer   \n",
       "3  1 21  1    6   40  Evangelical / Protestant  Atl?ntida    Richer   \n",
       "4  1 21  1    6   40  Evangelical / Protestant  Atl?ntida    Richer   \n",
       "\n",
       "   wealthDec  urban  DHSCLUST  \n",
       "0      72182  Urban         1  \n",
       "1      72182  Urban         1  \n",
       "2      72182  Urban         1  \n",
       "3      72182  Urban         1  \n",
       "4      72182  Urban         1  "
      ]
     },
     "execution_count": 7,
     "metadata": {},
     "output_type": "execute_result"
    }
   ],
   "source": [
    "DF.head()"
   ]
  },
  {
   "cell_type": "markdown",
   "metadata": {},
   "source": [
    "Check the types of variables (so we know how to treat them)"
   ]
  },
  {
   "cell_type": "code",
   "execution_count": 8,
   "metadata": {},
   "outputs": [
    {
     "data": {
      "text/plain": [
       "caseid         object\n",
       "educ         category\n",
       "age              int8\n",
       "religion     category\n",
       "region       category\n",
       "wealthCat    category\n",
       "wealthDec       int32\n",
       "urban        category\n",
       "DHSCLUST        int32\n",
       "dtype: object"
      ]
     },
     "execution_count": 8,
     "metadata": {},
     "output_type": "execute_result"
    }
   ],
   "source": [
    "DF.dtypes"
   ]
  },
  {
   "cell_type": "markdown",
   "metadata": {},
   "source": [
    "Check for missing or incorrectly coded data"
   ]
  },
  {
   "cell_type": "code",
   "execution_count": 9,
   "metadata": {},
   "outputs": [],
   "source": [
    "import numpy as np\n",
    "\n",
    "DF[['educ']]=DF[['educ']].replace([99], np.NaN)\n",
    "DF[['educ']]=DF[['educ']].astype('float')\n",
    "DF=DF[DF.religion != 99]"
   ]
  },
  {
   "cell_type": "markdown",
   "metadata": {},
   "source": [
    "Look at individual variables (in this case Urban)"
   ]
  },
  {
   "cell_type": "code",
   "execution_count": 10,
   "metadata": {},
   "outputs": [
    {
     "data": {
      "text/plain": [
       "0        Urban\n",
       "1        Urban\n",
       "2        Urban\n",
       "3        Urban\n",
       "4        Urban\n",
       "5        Urban\n",
       "6        Urban\n",
       "7        Urban\n",
       "8        Urban\n",
       "9        Urban\n",
       "10       Urban\n",
       "11       Urban\n",
       "12       Urban\n",
       "13       Urban\n",
       "14       Urban\n",
       "15       Urban\n",
       "16       Urban\n",
       "17       Urban\n",
       "18       Urban\n",
       "19       Urban\n",
       "20       Urban\n",
       "21       Urban\n",
       "22       Urban\n",
       "23       Urban\n",
       "24       Urban\n",
       "25       Urban\n",
       "26       Urban\n",
       "27       Urban\n",
       "28       Urban\n",
       "29       Urban\n",
       "         ...  \n",
       "49233    Rural\n",
       "49234    Rural\n",
       "49235    Rural\n",
       "49236    Rural\n",
       "49237    Rural\n",
       "49238    Rural\n",
       "49239    Rural\n",
       "49240    Rural\n",
       "49241    Rural\n",
       "49242    Rural\n",
       "49243    Rural\n",
       "49244    Rural\n",
       "49245    Rural\n",
       "49246    Rural\n",
       "49247    Rural\n",
       "49248    Rural\n",
       "49249    Rural\n",
       "49250    Rural\n",
       "49251    Rural\n",
       "49252    Rural\n",
       "49253    Rural\n",
       "49254    Rural\n",
       "49255    Rural\n",
       "49256    Rural\n",
       "49257    Rural\n",
       "49258    Rural\n",
       "49259    Rural\n",
       "49260    Rural\n",
       "49261    Rural\n",
       "49262    Rural\n",
       "Name: urban, Length: 49222, dtype: category\n",
       "Categories (2, object): [Urban < Rural]"
      ]
     },
     "execution_count": 10,
     "metadata": {},
     "output_type": "execute_result"
    }
   ],
   "source": [
    "DF.urban"
   ]
  },
  {
   "cell_type": "markdown",
   "metadata": {},
   "source": [
    "Recode Type of Residence as a true binary [0,1]"
   ]
  },
  {
   "cell_type": "code",
   "execution_count": 11,
   "metadata": {},
   "outputs": [],
   "source": [
    "oldUrban=list(DF.urban.cat.categories)\n",
    "# 1 urban / 0 rural\n",
    "newUrban=[1,0]\n",
    "recodeUrban={old:new for old,new in zip(oldUrban,newUrban)}"
   ]
  },
  {
   "cell_type": "code",
   "execution_count": 12,
   "metadata": {},
   "outputs": [],
   "source": [
    "DF.urban.cat.rename_categories(recodeUrban,inplace=True)"
   ]
  },
  {
   "cell_type": "markdown",
   "metadata": {},
   "source": [
    "Check our work"
   ]
  },
  {
   "cell_type": "code",
   "execution_count": 13,
   "metadata": {},
   "outputs": [
    {
     "data": {
      "text/plain": [
       "0        1\n",
       "1        1\n",
       "2        1\n",
       "3        1\n",
       "4        1\n",
       "5        1\n",
       "6        1\n",
       "7        1\n",
       "8        1\n",
       "9        1\n",
       "10       1\n",
       "11       1\n",
       "12       1\n",
       "13       1\n",
       "14       1\n",
       "15       1\n",
       "16       1\n",
       "17       1\n",
       "18       1\n",
       "19       1\n",
       "20       1\n",
       "21       1\n",
       "22       1\n",
       "23       1\n",
       "24       1\n",
       "25       1\n",
       "26       1\n",
       "27       1\n",
       "28       1\n",
       "29       1\n",
       "        ..\n",
       "49233    0\n",
       "49234    0\n",
       "49235    0\n",
       "49236    0\n",
       "49237    0\n",
       "49238    0\n",
       "49239    0\n",
       "49240    0\n",
       "49241    0\n",
       "49242    0\n",
       "49243    0\n",
       "49244    0\n",
       "49245    0\n",
       "49246    0\n",
       "49247    0\n",
       "49248    0\n",
       "49249    0\n",
       "49250    0\n",
       "49251    0\n",
       "49252    0\n",
       "49253    0\n",
       "49254    0\n",
       "49255    0\n",
       "49256    0\n",
       "49257    0\n",
       "49258    0\n",
       "49259    0\n",
       "49260    0\n",
       "49261    0\n",
       "49262    0\n",
       "Name: urban, Length: 49222, dtype: category\n",
       "Categories (2, int64): [1 < 0]"
      ]
     },
     "execution_count": 13,
     "metadata": {},
     "output_type": "execute_result"
    }
   ],
   "source": [
    "DF.urban"
   ]
  },
  {
   "cell_type": "markdown",
   "metadata": {},
   "source": [
    "Removing duplicate observations from data frame (we want each observation to represent a single woman, rather than a woman-birth pairing)"
   ]
  },
  {
   "cell_type": "code",
   "execution_count": 14,
   "metadata": {},
   "outputs": [],
   "source": [
    "DF=DF.drop_duplicates()"
   ]
  },
  {
   "cell_type": "markdown",
   "metadata": {},
   "source": [
    "Because the original language is Spanish, some of the region category names contain accents. With this code, we create a dictionary of the original category names and their non-accented versions. We then use the replace command to implement the changes to the data frame."
   ]
  },
  {
   "cell_type": "code",
   "execution_count": 15,
   "metadata": {},
   "outputs": [],
   "source": [
    "cleanup_names = {\"region\": {\"Atl?ntida\": \"Atlantida\", \"Cop?n\": \"Copan\", \"Col?n\": \"Colon\", \"Cort?s\": \"Cortes\",  \n",
    "                            \"Francisco Moraz?n\": \"Francisco Morazan\", \"Intibuc?\": \"Intibuca\", \n",
    "                            \"Santa B?rbara\": \"Santa Barbara\", \"El Para?so\": \"El Paraiso\", \n",
    "                            \"Islas de la Bah?a\": \"Islas de la Bahia\"}} \n",
    "\n",
    "DF.replace(cleanup_names, inplace = True)"
   ]
  },
  {
   "cell_type": "markdown",
   "metadata": {},
   "source": [
    "Exporting clean data as CSV file"
   ]
  },
  {
   "cell_type": "code",
   "execution_count": 16,
   "metadata": {},
   "outputs": [],
   "source": [
    "import os\n",
    "\n",
    "DF.to_csv(\"../data/cleandata.csv\", index=None)"
   ]
  },
  {
   "cell_type": "code",
   "execution_count": null,
   "metadata": {},
   "outputs": [],
   "source": []
  }
 ],
 "metadata": {
  "kernelspec": {
   "display_name": "Python 3",
   "language": "python",
   "name": "python3"
  },
  "language_info": {
   "codemirror_mode": {
    "name": "ipython",
    "version": 3
   },
   "file_extension": ".py",
   "mimetype": "text/x-python",
   "name": "python",
   "nbconvert_exporter": "python",
   "pygments_lexer": "ipython3",
   "version": "3.7.1"
  }
 },
 "nbformat": 4,
 "nbformat_minor": 2
}
