{
 "cells": [
  {
   "cell_type": "markdown",
   "metadata": {},
   "source": [
    "This imports pandas and the data set."
   ]
  },
  {
   "cell_type": "code",
   "execution_count": 1,
   "metadata": {},
   "outputs": [],
   "source": [
    "import pandas as pd\n",
    "Survey='https://github.com/arsell/599-Project/blob/master/data/HNBR62FL.DTA?raw=true'\n",
    "DF=pd.read_stata(Survey)"
   ]
  },
  {
   "cell_type": "markdown",
   "metadata": {},
   "source": [
    "This creates a dataframe with the variables from the data that will be used in our analysis."
   ]
  },
  {
   "cell_type": "code",
   "execution_count": 2,
   "metadata": {},
   "outputs": [],
   "source": [
    "DF=DF[['caseid', 'v133', 'v012', 'v130', 'v024', 'v190', 'v191','v025', 'v001']]"
   ]
  },
  {
   "cell_type": "markdown",
   "metadata": {},
   "source": [
    "This renames the variables."
   ]
  },
  {
   "cell_type": "code",
   "execution_count": 3,
   "metadata": {},
   "outputs": [],
   "source": [
    "DF.columns=['caseid', # CASEID\n",
    "            'educ', # Education in Single Years\n",
    "           'age', # Respondent's current age\n",
    "           'religion', # Religion\n",
    "           'region', # Region\n",
    "           'wealthCat', # Wealth index categorical\n",
    "           'wealthDec', # Wealth index decimal\n",
    "           'urban', # Type of residence\n",
    "            'DHSCLUST'] # DHS Cluster number - to link with shape file\n"
   ]
  },
  {
   "cell_type": "markdown",
   "metadata": {},
   "source": [
    "Properly recoding missing values"
   ]
  },
  {
   "cell_type": "code",
   "execution_count": 4,
   "metadata": {},
   "outputs": [],
   "source": [
    "import numpy as np\n",
    "\n",
    "DF[['educ']]=DF[['educ']].replace([99], np.NaN)\n",
    "DF[['educ']]=DF[['educ']].astype('float')\n",
    "DF=DF[DF.religion != 99]"
   ]
  },
  {
   "cell_type": "code",
   "execution_count": 5,
   "metadata": {},
   "outputs": [],
   "source": [
    "oldUrban=list(DF.urban.cat.categories)\n",
    "# 1 urban / 0 rural\n",
    "newUrban=[1,0]\n",
    "recodeUrban={old:new for old,new in zip(oldUrban,newUrban)}"
   ]
  },
  {
   "cell_type": "code",
   "execution_count": 6,
   "metadata": {},
   "outputs": [],
   "source": [
    "DF.urban.cat.rename_categories(recodeUrban,inplace=True)"
   ]
  },
  {
   "cell_type": "markdown",
   "metadata": {},
   "source": [
    "Removing duplicate observations from data frame"
   ]
  },
  {
   "cell_type": "code",
   "execution_count": 7,
   "metadata": {},
   "outputs": [],
   "source": [
    "DF=DF.drop_duplicates()"
   ]
  },
  {
   "cell_type": "markdown",
   "metadata": {},
   "source": [
    "Because the original language is Spanish, some of the region category names contain accents. With this code, we create a dictionary of the original category names and their non-accented versions. We then use the replace command to implement the changes to the data frame."
   ]
  },
  {
   "cell_type": "code",
   "execution_count": 8,
   "metadata": {},
   "outputs": [],
   "source": [
    "cleanup_names = {\"region\": {\"Atl?ntida\": \"Atlantida\", \"Cop?n\": \"Copan\", \"Col?n\": \"Colon\", \"Cort?s\": \"Cortes\",  \n",
    "                            \"Francisco Moraz?n\": \"Francisco Morazan\", \"Intibuc?\": \"Intibuca\", \n",
    "                            \"Santa B?rbara\": \"Santa Barbara\", \"El Para?so\": \"El Paraiso\", \n",
    "                            \"Islas de la Bah?a\": \"Islas de la Bahia\"}} \n",
    "\n",
    "DF.replace(cleanup_names, inplace = True)"
   ]
  },
  {
   "cell_type": "markdown",
   "metadata": {},
   "source": [
    "Exporting clean data as CSV file"
   ]
  },
  {
   "cell_type": "code",
   "execution_count": 9,
   "metadata": {},
   "outputs": [],
   "source": [
    "import os\n",
    "\n",
    "DF.to_csv(\"../data/cleandata.csv\", index=None)"
   ]
  },
  {
   "cell_type": "code",
   "execution_count": null,
   "metadata": {},
   "outputs": [],
   "source": []
  }
 ],
 "metadata": {
  "kernelspec": {
   "display_name": "Python 3",
   "language": "python",
   "name": "python3"
  },
  "language_info": {
   "codemirror_mode": {
    "name": "ipython",
    "version": 3
   },
   "file_extension": ".py",
   "mimetype": "text/x-python",
   "name": "python",
   "nbconvert_exporter": "python",
   "pygments_lexer": "ipython3",
   "version": "3.7.1"
  }
 },
 "nbformat": 4,
 "nbformat_minor": 2
}
