{
 "cells": [
  {
   "cell_type": "markdown",
   "metadata": {},
   "source": [
    "# Task List\n",
    "\n",
    "This file should be a mix of code and text explaining what the code does\n",
    "\n",
    "1. Import the data\n",
    "2. Select the variables we're keeping\n",
    "3. Change name of variables so that it's interpretable\n",
    "4. Properly code missing values\n",
    "5. Check for pattern of missing values (imputation necessary?)\n",
    "6. Check binary variables so that they're 0/1 coded\n",
    "7. Save as .csv file to repo\n"
   ]
  },
  {
   "cell_type": "code",
   "execution_count": null,
   "metadata": {},
   "outputs": [],
   "source": []
  }
 ],
 "metadata": {
  "kernelspec": {
   "display_name": "Python 3",
   "language": "python",
   "name": "python3"
  },
  "language_info": {
   "codemirror_mode": {
    "name": "ipython",
    "version": 3
   },
   "file_extension": ".py",
   "mimetype": "text/x-python",
   "name": "python",
   "nbconvert_exporter": "python",
   "pygments_lexer": "ipython3",
   "version": "3.7.1"
  }
 },
 "nbformat": 4,
 "nbformat_minor": 2
}
